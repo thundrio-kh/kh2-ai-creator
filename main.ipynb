{
 "cells": [
  {
   "cell_type": "code",
   "execution_count": 49,
   "id": "b5afe8e1",
   "metadata": {},
   "outputs": [],
   "source": [
    "# No function support\n",
    "\n",
    "# manual push pops\n",
    "# Calling a function with X methods\n",
    "# some basic comparisons \n",
    "# quit \n",
    "# constants support\n",
    "\n",
    "import json\n",
    "\n",
    "filename = \"lk_get_craw.bdx\"\n",
    "bdx = open(filename).read().split(\"\\n\")\n",
    "name = filename.split(\".\")[0]\n",
    "\n",
    "PRINT_ASSEMBLY = True"
   ]
  },
  {
   "cell_type": "code",
   "execution_count": 53,
   "id": "77c57ea6",
   "metadata": {},
   "outputs": [],
   "source": [
    "def doConst(management, line_syntax):\n",
    "    try:\n",
    "        name = line_syntax[1]\n",
    "        value = int(line_syntax[2])\n",
    "    except:\n",
    "        print(\"ParseError error converting {} to int\".format(line_syntax))\n",
    "        value = int(line_syntax[1])\n",
    "    if name in management[\"constants\"]:\n",
    "        raise Exception(\"ConstantError: Constant already defined {}\".format(name))\n",
    "    management[\"constants\"][name] = value\n",
    "\n",
    "def doPush(management, line_syntax=None, value=None):\n",
    "    if not value:\n",
    "        value = int(line_syntax[1])\n",
    "    management[\"instructions\"].append(\"pushImm {}\".format(value))\n",
    "\n",
    "def doPop(management, line_syntax=None, value=None):\n",
    "    raise Exception(\"Not Implemented\")\n",
    "\n",
    "def doCall(management, line_syntax):\n",
    "    ls = ''.join(line_syntax[1:]).split(\"(\")\n",
    "    trap_name = ls[0]\n",
    "    arguments = [a for a in ls[1].split(\")\")[0].split(\",\") if len(a)]\n",
    "    for arg in arguments:\n",
    "        argument = arg\n",
    "        if arg in management[\"constants\"]:\n",
    "            argument = management[\"constants\"][arg]\n",
    "        doPush(management, value=argument)\n",
    "    management[\"instructions\"].append(trap_name)\n",
    "\n",
    "def doQuit(management, line_syntax):\n",
    "    management[\"instructions\"].append(\"ret\")\n",
    "\n",
    "def doIf(management, line_syntax):\n",
    "    raise Exception(\"Not Implemented\")\n",
    "\n",
    "def doLabel(management, line_syntax):\n",
    "    label_name = ' '.join(line_syntax[1:])\n",
    "    management[\"end_labels\"].append(label_name)\n",
    "    \n",
    "def assembleBDX(instructions):\n",
    "    pass"
   ]
  },
  {
   "cell_type": "code",
   "execution_count": 54,
   "id": "07f6afa8",
   "metadata": {},
   "outputs": [
    {
     "name": "stdout",
     "output_type": "stream",
     "text": [
      "workSize: 0\n",
      "stackSize: 512\n",
      "termSize: 512\n",
      "\n",
      "\n",
      "pushImm 7\n",
      "pushImm 525\n",
      "trap_saveram_set_form_ability\n",
      "ret\n",
      "\n",
      "\n",
      "jump_start\n",
      "jump_end\n"
     ]
    }
   ],
   "source": [
    "commands = {\n",
    "    \"constant\": doConst,\n",
    "    \"push\": doPush,\n",
    "    \"pop\": doPop,\n",
    "    \"call\": doCall,\n",
    "    \"quit\": doQuit,\n",
    "    \"If\": doIf,\n",
    "    \"label\": doLabel\n",
    "}\n",
    "\n",
    "management = {\n",
    "    \"sizes\": {\n",
    "        \"workSize\": 0,\n",
    "        \"stackSize\": 512,\n",
    "        \"termSize\": 512\n",
    "    },\n",
    "    \"constants\": {},\n",
    "    \"instructions\": [],\n",
    "    \"end_labels\": [\n",
    "    ]\n",
    "}\n",
    "\n",
    "for line in bdx:\n",
    "    # Allow python style comments\n",
    "    if len(line.strip()) == 0:\n",
    "        continue\n",
    "    elif line.startswith(\"#\"):\n",
    "        continue\n",
    "    elif '#' in line:\n",
    "        line = line.split(\"#\")[0]\n",
    "\n",
    "    if line.startswith(\"workSize:\"):\n",
    "        management[\"sizes\"][\"workSize\"] = int(line.split(\" \")[1])\n",
    "        continue\n",
    "    elif line.startswith(\"stackSize:\"):\n",
    "        management[\"sizes\"][\"stackSize\"] = int(line.split(\" \")[1])\n",
    "        continue\n",
    "    elif line.startswith(\"termSize:\"):\n",
    "        management[\"sizes\"][\"termSize\"] = int(line.split(\" \")[1])\n",
    "        continue\n",
    "\n",
    "    line_syntax = line.strip().split(\" \")\n",
    "    command = line_syntax[0]\n",
    "    if command not in commands:\n",
    "        raise Exception(\"SyntaxError: Command not found: {}\".format(command))\n",
    "    commands[command](management, line_syntax)\n",
    "\n",
    "if management[\"instructions\"][-1] != \"ret\":\n",
    "    management[\"instructions\"].append(\"ret\")\n",
    "\n",
    "\n",
    "if PRINT_ASSEMBLY:\n",
    "    print(\"\\n\".join([\"{}: {}\".format(k,v) for k,v in management[\"sizes\"].items()]))\n",
    "    print(\"\\n\")\n",
    "    print(\"\\n\".join(management[\"instructions\"]))\n",
    "    print(\"\\n\")\n",
    "    print(\"\\n\".join(management[\"end_labels\"]))\n",
    "\n",
    "\n",
    "# Now create the BDX off the assembly\n",
    "assembleBDX(management[\"instructions\"])"
   ]
  },
  {
   "cell_type": "code",
   "execution_count": 67,
   "id": "889b5e27",
   "metadata": {},
   "outputs": [
    {
     "data": {
      "text/plain": [
       "True"
      ]
     },
     "execution_count": 67,
     "metadata": {},
     "output_type": "execute_result"
    }
   ],
   "source": [
    "instructions = json.load(open(\"instructions.json\"))\n",
    "traps = json.load(open(\"traps.json\"))\n",
    "instructions = {\n",
    "    \"pushImm\": [0x80, 0],\n",
    "    \"ret\": [0x89, 0]\n",
    "}\n",
    "traps = json.load(open(\"traps.json\"))\n",
    "\n",
    "hexdump = bytearray(name, \"utf-8\")\n",
    "while len(hexdump) < 16:\n",
    "    hexdump.append(0) # delimiter\n",
    "\n",
    "import struct\n",
    "\n",
    "hexdump += bytearray(struct.pack(\"<i\", management[\"sizes\"][\"workSize\"]))\n",
    "hexdump += bytearray(struct.pack(\"<i\", management[\"sizes\"][\"stackSize\"]))\n",
    "hexdump += bytearray(struct.pack(\"<i\", management[\"sizes\"][\"termSize\"]))\n",
    "\n",
    "# Just a default triggers section, will need to be real for more advanced stuff\n",
    "hexdump += bytearray([2, 0, 0, 0, 14, 0, 0, 0, 0, 0, 0, 0, 0, 0, 0, 0])\n",
    "\n",
    "for instruction in management[\"instructions\"]:\n",
    "    if instruction.startswith(\"trap\"):\n",
    "        hexdump += bytearray([0xa,0])\n",
    "        trap = traps[instruction]\n",
    "        hexdump += bytearray(int(trap[\"tableIdx\"]))\n",
    "        hexdump += bytearray(struct.pack(\"<h\", int(trap[\"funcIdx\"])))\n",
    "    else:\n",
    "        split = instruction.split(\" \")\n",
    "        instr = split[0]\n",
    "        if instr not in instructions:\n",
    "            raise Exception(\"Instruction not found: {}\".format(instr))\n",
    "        hexdump += bytearray(instructions[instr])\n",
    "        if instr == \"pushImm\":\n",
    "            hexdump += bytearray(struct.pack(\"<i\", int(split[1])))\n",
    "\n",
    "# for l in range(len(management[\"end_labels\"])):\n",
    "#     label = management[\"end_labels\"][l]\n",
    "#     hexdump += bytearray(name, \"utf-8\")\n",
    "#     hexdump += bytearray([0,0]) \n",
    "\n",
    "# hacking the end together\n",
    "hexdump += bytearray([106, 117, 109, 112, 32, 115, 116, 97, 114, 116, 0, 0, 106, 117, 109, 112, 32, 101, 110, 100, 0, 0])\n",
    "\n",
    "hexdump == correct\n",
    "# str([i for i in hexdump])\n",
    "# for i in range(len(correct)):\n",
    "#     x = correct[i]\n",
    "#     y = hexdump[i] if i < len(hexdump) else '_'\n",
    "#     print(\"{} {}\".format(x, y))"
   ]
  },
  {
   "cell_type": "code",
   "execution_count": 46,
   "id": "659a45dd",
   "metadata": {},
   "outputs": [
    {
     "data": {
      "text/plain": [
       "'0xa'"
      ]
     },
     "execution_count": 46,
     "metadata": {},
     "output_type": "execute_result"
    }
   ],
   "source": [
    "hex(0xa)"
   ]
  },
  {
   "cell_type": "code",
   "execution_count": 44,
   "id": "4717cd42",
   "metadata": {},
   "outputs": [
    {
     "data": {
      "text/plain": [
       "'[108, 107, 95, 103, 101, 116, 95, 99, 114, 97, 119, 0, 0, 0, 0, 0, 0, 0, 0, 0, 0, 2, 0, 0, 0, 2, 0, 0, 2, 0, 0, 0, 14, 0, 0, 0, 0, 0, 0, 0, 0, 0, 0, 0, 128, 0, 7, 0, 0, 0, 128, 0, 13, 2, 0, 0, 10, 0, 98, 0, 137, 0, 106, 117, 109, 112, 32, 115, 116, 97, 114, 116, 0, 0, 106, 117, 109, 112, 32, 101, 110, 100, 0, 0]'"
      ]
     },
     "execution_count": 44,
     "metadata": {},
     "output_type": "execute_result"
    }
   ],
   "source": [
    "correct = open(\"lk_g.bdx\", \"rb\").read()\n",
    "correct\n",
    "str([i for i in bytearray(correct)])"
   ]
  },
  {
   "cell_type": "code",
   "execution_count": null,
   "id": "0131b39a",
   "metadata": {},
   "outputs": [],
   "source": [
    "'''\n",
    "'   '0x6a', '0x75', '0x6d', '0x70', '0x20', '0x73', '0x74', '0x61', '0x72', '0x74', '0x0', '0x0', '0x6a', '0x75', '0x6d', '0x70', '0x20', '0x65', '0x6e', '0x64', '0x0', '0x0'\n",
    "# 0x80', '0x0',                '0x7', '0x0', '0x0', '0x0',\n",
    "pushImm 7\n",
    "#'0x80', '0x0',                '0xd', '0x2', '0x0', '0x0',\n",
    "pushImm 525\n",
    "# '0xa', '0x0',                '0x62', '0x0',\n",
    "trap_saveram_set_form_ability\n",
    "# '0x89', '0x0',\n",
    "ret\n",
    "'''"
   ]
  },
  {
   "cell_type": "code",
   "execution_count": null,
   "id": "e6bc7345",
   "metadata": {},
   "outputs": [],
   "source": [
    "# break this for assembly instructions\n",
    "int v0 = br.ReadUInt16();\n",
    "                        int opc = v0 & 15;\n",
    "                        int sub = (v0 >> 4) & 3;\n",
    "                        var ssub = v0 >> 6;\n",
    "\n",
    "                        Instr instr;\n",
    "                        try {\n",
    "                            instr = pcode.Instr.Single(\n",
    "                                it => it.opcode == opc\n",
    "                                && (it.sub == -1 || it.sub == sub)\n",
    "                                && (it.ssub == -1 || it.ssub == ssub)\n",
    "                            );\n",
    "                        }\n"
   ]
  },
  {
   "cell_type": "code",
   "execution_count": 31,
   "id": "ddd5c359",
   "metadata": {},
   "outputs": [],
   "source": [
    "v0 = 0x89"
   ]
  },
  {
   "cell_type": "code",
   "execution_count": null,
   "id": "fddc45c7",
   "metadata": {},
   "outputs": [],
   "source": []
  },
  {
   "cell_type": "code",
   "execution_count": 32,
   "id": "1d4fd7f4",
   "metadata": {},
   "outputs": [
    {
     "data": {
      "text/plain": [
       "137"
      ]
     },
     "execution_count": 32,
     "metadata": {},
     "output_type": "execute_result"
    }
   ],
   "source": [
    "v0"
   ]
  },
  {
   "cell_type": "code",
   "execution_count": 6,
   "id": "4d1de8b2",
   "metadata": {},
   "outputs": [
    {
     "data": {
      "text/plain": [
       "b'lk_get_craw'"
      ]
     },
     "execution_count": 6,
     "metadata": {},
     "output_type": "execute_result"
    }
   ],
   "source": [
    "hexdump"
   ]
  },
  {
   "cell_type": "code",
   "execution_count": 7,
   "id": "a5ae3e4d",
   "metadata": {},
   "outputs": [
    {
     "data": {
      "text/plain": [
       "11"
      ]
     },
     "execution_count": 7,
     "metadata": {},
     "output_type": "execute_result"
    }
   ],
   "source": [
    "len(hexdump)"
   ]
  },
  {
   "cell_type": "code",
   "execution_count": 12,
   "id": "13250c43",
   "metadata": {},
   "outputs": [],
   "source": [
    "hexdump+=bytes(0x0)"
   ]
  },
  {
   "cell_type": "code",
   "execution_count": 13,
   "id": "4fae602a",
   "metadata": {},
   "outputs": [
    {
     "data": {
      "text/plain": [
       "11"
      ]
     },
     "execution_count": 13,
     "metadata": {},
     "output_type": "execute_result"
    }
   ],
   "source": [
    "len(hexdump)"
   ]
  },
  {
   "cell_type": "code",
   "execution_count": 14,
   "id": "8a98b492",
   "metadata": {},
   "outputs": [
    {
     "data": {
      "text/plain": [
       "b'lk_get_craw'"
      ]
     },
     "execution_count": 14,
     "metadata": {},
     "output_type": "execute_result"
    }
   ],
   "source": [
    "hexdump"
   ]
  },
  {
   "cell_type": "code",
   "execution_count": 15,
   "id": "6d6a9211",
   "metadata": {},
   "outputs": [
    {
     "ename": "TypeError",
     "evalue": "can't concat int to bytes",
     "output_type": "error",
     "traceback": [
      "\u001b[1;31m---------------------------------------------------------------------------\u001b[0m",
      "\u001b[1;31mTypeError\u001b[0m                                 Traceback (most recent call last)",
      "\u001b[1;32m<ipython-input-15-baf9d41b12fc>\u001b[0m in \u001b[0;36m<module>\u001b[1;34m\u001b[0m\n\u001b[1;32m----> 1\u001b[1;33m \u001b[0mhexdump\u001b[0m \u001b[1;33m+=\u001b[0m \u001b[1;36m0x0\u001b[0m\u001b[1;33m\u001b[0m\u001b[1;33m\u001b[0m\u001b[0m\n\u001b[0m",
      "\u001b[1;31mTypeError\u001b[0m: can't concat int to bytes"
     ]
    }
   ],
   "source": [
    "hexdump += 0x0"
   ]
  },
  {
   "cell_type": "code",
   "execution_count": 30,
   "id": "b3bbaf68",
   "metadata": {},
   "outputs": [
    {
     "data": {
      "text/plain": [
       "0"
      ]
     },
     "execution_count": 30,
     "metadata": {},
     "output_type": "execute_result"
    }
   ],
   "source": [
    "7 & 8"
   ]
  },
  {
   "cell_type": "code",
   "execution_count": null,
   "id": "d64adb68",
   "metadata": {},
   "outputs": [],
   "source": []
  }
 ],
 "metadata": {
  "kernelspec": {
   "display_name": "Python 3",
   "language": "python",
   "name": "python3"
  },
  "language_info": {
   "codemirror_mode": {
    "name": "ipython",
    "version": 3
   },
   "file_extension": ".py",
   "mimetype": "text/x-python",
   "name": "python",
   "nbconvert_exporter": "python",
   "pygments_lexer": "ipython3",
   "version": "3.8.8"
  }
 },
 "nbformat": 4,
 "nbformat_minor": 5
}
